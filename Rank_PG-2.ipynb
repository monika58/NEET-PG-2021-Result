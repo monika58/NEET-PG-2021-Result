{
 "cells": [
  {
   "cell_type": "markdown",
   "metadata": {},
   "source": [
    "## Import Libraries"
   ]
  },
  {
   "cell_type": "code",
   "execution_count": 88,
   "metadata": {},
   "outputs": [],
   "source": [
    "import fitz\n",
    "import numpy as np\n",
    "import matplotlib.pyplot as plt"
   ]
  },
  {
   "cell_type": "markdown",
   "metadata": {},
   "source": [
    "## Load result pdf"
   ]
  },
  {
   "cell_type": "markdown",
   "metadata": {},
   "source": [
    "1. natboard-data_publicnotice_uploadedfile_file_202109284251.pdf  released by NAT as PG 2021 result"
   ]
  },
  {
   "cell_type": "code",
   "execution_count": 5,
   "metadata": {},
   "outputs": [],
   "source": [
    "fname = 'natboard-data_publicnotice_uploadedfile_file_202109284251.pdf'\n",
    "doc = fitz.open(fname)  # open document\n",
    "out = open(fname + \".txt\", \"wb\")  # open text output\n",
    "text_list = []\n",
    "for page in doc:  # iterate the document pages\n",
    "    text = page.get_text().encode(\"utf8\")  # get plain text (is in UTF-8)\n",
    "    text_list.append(text)\n",
    "    out.write(text)  # write text of page\n",
    "    out.write(bytes((12,)))  # write page delimiter (form feed 0x0C)\n",
    "out.close()\n"
   ]
  },
  {
   "cell_type": "code",
   "execution_count": 7,
   "metadata": {},
   "outputs": [
    {
     "data": {
      "text/plain": [
       "507"
      ]
     },
     "execution_count": 7,
     "metadata": {},
     "output_type": "execute_result"
    }
   ],
   "source": [
    "len(text_list)"
   ]
  },
  {
   "cell_type": "markdown",
   "metadata": {},
   "source": [
    "## Pre-process data "
   ]
  },
  {
   "cell_type": "code",
   "execution_count": 18,
   "metadata": {},
   "outputs": [],
   "source": [
    "for i in range(len(text_list)):\n",
    "    text_list[i] = text_list[i].replace(\"NATIONAL BOARD OF EXAMINATIONS IN MEDICAL SCIENCES\\nPAGE :- \"+str(i+1)+\"\\nRESULT OF NEET- PG 2021 **\\n\",\"\")\n",
    "    text_list[i] = text_list[i].replace(\"ROLL NO\\n     SCORE\\n( OUT OF 800)  \",\"\")\n",
    "    text_list[i] = text_list[i].replace(\"** Candidature is purely provisional subject to fulfillment of eligibility criteria as mentioned in the Information Bulletin.\\n\",\"\")"
   ]
  },
  {
   "cell_type": "code",
   "execution_count": 13,
   "metadata": {},
   "outputs": [],
   "source": [
    "text_list = []\n",
    "for page in doc:  # iterate the document pages\n",
    "    text = page.get_text()\n",
    "    text_list.append(text)"
   ]
  },
  {
   "cell_type": "markdown",
   "metadata": {},
   "source": [
    "## Get all marks in a list"
   ]
  },
  {
   "cell_type": "code",
   "execution_count": 79,
   "metadata": {},
   "outputs": [],
   "source": [
    "numbers = []\n",
    "absent_count = 0\n",
    "for i in range(len(text_list)):\n",
    "    l1 = text_list[i].split(\"\\n\")\n",
    "    for i in range(len(l1)):\n",
    "        if len(l1[i])==3:\n",
    "            numbers.append(int(l1[i]))\n",
    "        if l1[i]=='ABSENT':\n",
    "            absent_count=absent_count+1"
   ]
  },
  {
   "cell_type": "code",
   "execution_count": 51,
   "metadata": {},
   "outputs": [
    {
     "data": {
      "text/plain": [
       "160682"
      ]
     },
     "execution_count": 51,
     "metadata": {},
     "output_type": "execute_result"
    }
   ],
   "source": [
    "\n",
    "len(numbers)"
   ]
  },
  {
   "cell_type": "code",
   "execution_count": 57,
   "metadata": {},
   "outputs": [
    {
     "data": {
      "text/plain": [
       "array([160., 200., 237., 272., 309., 347., 391., 415., 442., 506.])"
      ]
     },
     "execution_count": 57,
     "metadata": {},
     "output_type": "execute_result"
    }
   ],
   "source": [
    "np.quantile(np.array(numbers), [0.1,0.2,0.3,0.4,0.5,0.6,0.7,0.75, 0.8,0.9])"
   ]
  },
  {
   "cell_type": "code",
   "execution_count": 40,
   "metadata": {},
   "outputs": [],
   "source": [
    "numbers = dict1.values()"
   ]
  },
  {
   "cell_type": "code",
   "execution_count": 44,
   "metadata": {},
   "outputs": [],
   "source": [
    "numbers = [int(x) for x in list(dict1.values()) if x not in 'ABSENT']"
   ]
  },
  {
   "cell_type": "code",
   "execution_count": 60,
   "metadata": {},
   "outputs": [
    {
     "data": {
      "text/plain": [
       "(array([6.0000e+00, 3.6660e+03, 2.4972e+04, 3.3057e+04, 3.2441e+04,\n",
       "        2.6397e+04, 2.0584e+04, 1.3155e+04, 5.7480e+03, 6.5600e+02]),\n",
       " array([-31. ,  43.5, 118. , 192.5, 267. , 341.5, 416. , 490.5, 565. ,\n",
       "        639.5, 714. ]),\n",
       " <BarContainer object of 10 artists>)"
      ]
     },
     "execution_count": 60,
     "metadata": {},
     "output_type": "execute_result"
    },
    {
     "data": {
      "image/png": "[encoded data removed]",
      "text/plain": [
       "<Figure size 432x288 with 1 Axes>"
      ]
     },
     "metadata": {
      "needs_background": "light"
     },
     "output_type": "display_data"
    }
   ],
   "source": [
    "plt.hist(numbers)"
   ]
  },
  {
   "cell_type": "code",
   "execution_count": 87,
   "metadata": {},
   "outputs": [
    {
     "data": {
      "text/plain": [
       "38961"
      ]
     },
     "execution_count": 87,
     "metadata": {},
     "output_type": "execute_result"
    }
   ],
   "source": [
    "sum(np.array(numbers)>419)"
   ]
  },
  {
   "cell_type": "code",
   "execution_count": 68,
   "metadata": {},
   "outputs": [],
   "source": [
    "scores = pd.DataFrame({'score': numbers})"
   ]
  },
  {
   "cell_type": "code",
   "execution_count": 74,
   "metadata": {},
   "outputs": [],
   "source": [
    "scores['rank'] = scores['score'].rank(ascending = False)"
   ]
  },
  {
   "cell_type": "code",
   "execution_count": 75,
   "metadata": {},
   "outputs": [
    {
     "data": {
      "text/html": [
       "<div>\n",
       "<style scoped>\n",
       "    .dataframe tbody tr th:only-of-type {\n",
       "        vertical-align: middle;\n",
       "    }\n",
       "\n",
       "    .dataframe tbody tr th {\n",
       "        vertical-align: top;\n",
       "    }\n",
       "\n",
       "    .dataframe thead th {\n",
       "        text-align: right;\n",
       "    }\n",
       "</style>\n",
       "<table border=\"1\" class=\"dataframe\">\n",
       "  <thead>\n",
       "    <tr style=\"text-align: right;\">\n",
       "      <th></th>\n",
       "      <th>score</th>\n",
       "      <th>rank</th>\n",
       "    </tr>\n",
       "  </thead>\n",
       "  <tbody>\n",
       "    <tr>\n",
       "      <th>82582</th>\n",
       "      <td>-31</td>\n",
       "      <td>160682.0</td>\n",
       "    </tr>\n",
       "    <tr>\n",
       "      <th>44144</th>\n",
       "      <td>-25</td>\n",
       "      <td>160681.0</td>\n",
       "    </tr>\n",
       "    <tr>\n",
       "      <th>150352</th>\n",
       "      <td>-15</td>\n",
       "      <td>160679.5</td>\n",
       "    </tr>\n",
       "    <tr>\n",
       "      <th>96236</th>\n",
       "      <td>-15</td>\n",
       "      <td>160679.5</td>\n",
       "    </tr>\n",
       "    <tr>\n",
       "      <th>132932</th>\n",
       "      <td>-13</td>\n",
       "      <td>160678.0</td>\n",
       "    </tr>\n",
       "    <tr>\n",
       "      <th>...</th>\n",
       "      <td>...</td>\n",
       "      <td>...</td>\n",
       "    </tr>\n",
       "    <tr>\n",
       "      <th>84474</th>\n",
       "      <td>706</td>\n",
       "      <td>5.0</td>\n",
       "    </tr>\n",
       "    <tr>\n",
       "      <th>78649</th>\n",
       "      <td>709</td>\n",
       "      <td>4.0</td>\n",
       "    </tr>\n",
       "    <tr>\n",
       "      <th>47104</th>\n",
       "      <td>710</td>\n",
       "      <td>3.0</td>\n",
       "    </tr>\n",
       "    <tr>\n",
       "      <th>102929</th>\n",
       "      <td>712</td>\n",
       "      <td>2.0</td>\n",
       "    </tr>\n",
       "    <tr>\n",
       "      <th>159285</th>\n",
       "      <td>714</td>\n",
       "      <td>1.0</td>\n",
       "    </tr>\n",
       "  </tbody>\n",
       "</table>\n",
       "<p>160682 rows × 2 columns</p>\n",
       "</div>"
      ],
      "text/plain": [
       "        score      rank\n",
       "82582     -31  160682.0\n",
       "44144     -25  160681.0\n",
       "150352    -15  160679.5\n",
       "96236     -15  160679.5\n",
       "132932    -13  160678.0\n",
       "...       ...       ...\n",
       "84474     706       5.0\n",
       "78649     709       4.0\n",
       "47104     710       3.0\n",
       "102929    712       2.0\n",
       "159285    714       1.0\n",
       "\n",
       "[160682 rows x 2 columns]"
      ]
     },
     "execution_count": 75,
     "metadata": {},
     "output_type": "execute_result"
    }
   ],
   "source": [
    "scores.sort_values(by = 'score')"
   ]
  },
  {
   "cell_type": "code",
   "execution_count": 76,
   "metadata": {},
   "outputs": [
    {
     "data": {
      "text/html": [
       "<div>\n",
       "<style scoped>\n",
       "    .dataframe tbody tr th:only-of-type {\n",
       "        vertical-align: middle;\n",
       "    }\n",
       "\n",
       "    .dataframe tbody tr th {\n",
       "        vertical-align: top;\n",
       "    }\n",
       "\n",
       "    .dataframe thead th {\n",
       "        text-align: right;\n",
       "    }\n",
       "</style>\n",
       "<table border=\"1\" class=\"dataframe\">\n",
       "  <thead>\n",
       "    <tr style=\"text-align: right;\">\n",
       "      <th></th>\n",
       "      <th>score</th>\n",
       "      <th>rank</th>\n",
       "    </tr>\n",
       "  </thead>\n",
       "  <tbody>\n",
       "    <tr>\n",
       "      <th>685</th>\n",
       "      <td>419</td>\n",
       "      <td>39114.0</td>\n",
       "    </tr>\n",
       "    <tr>\n",
       "      <th>1319</th>\n",
       "      <td>419</td>\n",
       "      <td>39114.0</td>\n",
       "    </tr>\n",
       "    <tr>\n",
       "      <th>1607</th>\n",
       "      <td>419</td>\n",
       "      <td>39114.0</td>\n",
       "    </tr>\n",
       "    <tr>\n",
       "      <th>1759</th>\n",
       "      <td>419</td>\n",
       "      <td>39114.0</td>\n",
       "    </tr>\n",
       "    <tr>\n",
       "      <th>1860</th>\n",
       "      <td>419</td>\n",
       "      <td>39114.0</td>\n",
       "    </tr>\n",
       "    <tr>\n",
       "      <th>...</th>\n",
       "      <td>...</td>\n",
       "      <td>...</td>\n",
       "    </tr>\n",
       "    <tr>\n",
       "      <th>159492</th>\n",
       "      <td>419</td>\n",
       "      <td>39114.0</td>\n",
       "    </tr>\n",
       "    <tr>\n",
       "      <th>159900</th>\n",
       "      <td>419</td>\n",
       "      <td>39114.0</td>\n",
       "    </tr>\n",
       "    <tr>\n",
       "      <th>159924</th>\n",
       "      <td>419</td>\n",
       "      <td>39114.0</td>\n",
       "    </tr>\n",
       "    <tr>\n",
       "      <th>160246</th>\n",
       "      <td>419</td>\n",
       "      <td>39114.0</td>\n",
       "    </tr>\n",
       "    <tr>\n",
       "      <th>160285</th>\n",
       "      <td>419</td>\n",
       "      <td>39114.0</td>\n",
       "    </tr>\n",
       "  </tbody>\n",
       "</table>\n",
       "<p>305 rows × 2 columns</p>\n",
       "</div>"
      ],
      "text/plain": [
       "        score     rank\n",
       "685       419  39114.0\n",
       "1319      419  39114.0\n",
       "1607      419  39114.0\n",
       "1759      419  39114.0\n",
       "1860      419  39114.0\n",
       "...       ...      ...\n",
       "159492    419  39114.0\n",
       "159900    419  39114.0\n",
       "159924    419  39114.0\n",
       "160246    419  39114.0\n",
       "160285    419  39114.0\n",
       "\n",
       "[305 rows x 2 columns]"
      ]
     },
     "execution_count": 76,
     "metadata": {},
     "output_type": "execute_result"
    }
   ],
   "source": [
    "scores[scores['score']==419]"
   ]
  },
  {
   "cell_type": "code",
   "execution_count": 84,
   "metadata": {},
   "outputs": [
    {
     "data": {
      "text/html": [
       "<div>\n",
       "<style scoped>\n",
       "    .dataframe tbody tr th:only-of-type {\n",
       "        vertical-align: middle;\n",
       "    }\n",
       "\n",
       "    .dataframe tbody tr th {\n",
       "        vertical-align: top;\n",
       "    }\n",
       "\n",
       "    .dataframe thead th {\n",
       "        text-align: right;\n",
       "    }\n",
       "</style>\n",
       "<table border=\"1\" class=\"dataframe\">\n",
       "  <thead>\n",
       "    <tr style=\"text-align: right;\">\n",
       "      <th></th>\n",
       "      <th>score</th>\n",
       "      <th>rank</th>\n",
       "    </tr>\n",
       "  </thead>\n",
       "  <tbody>\n",
       "    <tr>\n",
       "      <th>2128</th>\n",
       "      <td>560</td>\n",
       "      <td>6958.5</td>\n",
       "    </tr>\n",
       "    <tr>\n",
       "      <th>2988</th>\n",
       "      <td>560</td>\n",
       "      <td>6958.5</td>\n",
       "    </tr>\n",
       "    <tr>\n",
       "      <th>5243</th>\n",
       "      <td>560</td>\n",
       "      <td>6958.5</td>\n",
       "    </tr>\n",
       "    <tr>\n",
       "      <th>5817</th>\n",
       "      <td>560</td>\n",
       "      <td>6958.5</td>\n",
       "    </tr>\n",
       "    <tr>\n",
       "      <th>7398</th>\n",
       "      <td>560</td>\n",
       "      <td>6958.5</td>\n",
       "    </tr>\n",
       "    <tr>\n",
       "      <th>...</th>\n",
       "      <td>...</td>\n",
       "      <td>...</td>\n",
       "    </tr>\n",
       "    <tr>\n",
       "      <th>157780</th>\n",
       "      <td>560</td>\n",
       "      <td>6958.5</td>\n",
       "    </tr>\n",
       "    <tr>\n",
       "      <th>158501</th>\n",
       "      <td>560</td>\n",
       "      <td>6958.5</td>\n",
       "    </tr>\n",
       "    <tr>\n",
       "      <th>158839</th>\n",
       "      <td>560</td>\n",
       "      <td>6958.5</td>\n",
       "    </tr>\n",
       "    <tr>\n",
       "      <th>159100</th>\n",
       "      <td>560</td>\n",
       "      <td>6958.5</td>\n",
       "    </tr>\n",
       "    <tr>\n",
       "      <th>160183</th>\n",
       "      <td>560</td>\n",
       "      <td>6958.5</td>\n",
       "    </tr>\n",
       "  </tbody>\n",
       "</table>\n",
       "<p>192 rows × 2 columns</p>\n",
       "</div>"
      ],
      "text/plain": [
       "        score    rank\n",
       "2128      560  6958.5\n",
       "2988      560  6958.5\n",
       "5243      560  6958.5\n",
       "5817      560  6958.5\n",
       "7398      560  6958.5\n",
       "...       ...     ...\n",
       "157780    560  6958.5\n",
       "158501    560  6958.5\n",
       "158839    560  6958.5\n",
       "159100    560  6958.5\n",
       "160183    560  6958.5\n",
       "\n",
       "[192 rows x 2 columns]"
      ]
     },
     "execution_count": 84,
     "metadata": {},
     "output_type": "execute_result"
    }
   ],
   "source": [
    "scores[scores['score']==560]"
   ]
  },
  {
   "cell_type": "code",
   "execution_count": 80,
   "metadata": {},
   "outputs": [
    {
     "data": {
      "text/plain": [
       "11034"
      ]
     },
     "execution_count": 80,
     "metadata": {},
     "output_type": "execute_result"
    }
   ],
   "source": [
    "absent_count"
   ]
  },
  {
   "cell_type": "code",
   "execution_count": null,
   "metadata": {},
   "outputs": [],
   "source": [
    "18000 \n"
   ]
  },
  {
   "cell_type": "code",
   "execution_count": null,
   "metadata": {},
   "outputs": [],
   "source": []
  }
 ],
 "metadata": {
  "kernelspec": {
   "display_name": "Python 3",
   "language": "python",
   "name": "python3"
  },
  "language_info": {
   "codemirror_mode": {
    "name": "ipython",
    "version": 3
   },
   "file_extension": ".py",
   "mimetype": "text/x-python",
   "name": "python",
   "nbconvert_exporter": "python",
   "pygments_lexer": "ipython3",
   "version": "3.8.5"
  }
 },
 "nbformat": 4,
 "nbformat_minor": 4
}
